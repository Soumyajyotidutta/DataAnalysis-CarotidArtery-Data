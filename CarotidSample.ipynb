{
  "nbformat": 4,
  "nbformat_minor": 0,
  "metadata": {
    "colab": {
      "provenance": []
    },
    "kernelspec": {
      "name": "python3",
      "display_name": "Python 3"
    },
    "language_info": {
      "name": "python"
    }
  },
  "cells": [
    {
      "cell_type": "code",
      "metadata": {
        "id": "Eu8UFmrk-I4K"
      },
      "source": [
        "import pandas as pd\n",
        "import numpy as np\n",
        "from google.colab import drive"
      ],
      "execution_count": null,
      "outputs": []
    },
    {
      "cell_type": "markdown",
      "source": [
        "# New Section"
      ],
      "metadata": {
        "id": "6fsG4_3BTDl2"
      }
    },
    {
      "cell_type": "code",
      "metadata": {
        "colab": {
          "base_uri": "https://localhost:8080/",
          "height": 204
        },
        "id": "7AdNbKTg-jcy",
        "outputId": "03e90402-36b7-4904-8572-ac278971fb60"
      },
      "source": [
        "df = pd.read_csv('/content/master_performance1.csv')\n",
        "df.head()"
      ],
      "execution_count": null,
      "outputs": [
        {
          "output_type": "execute_result",
          "data": {
            "text/html": [
              "<div>\n",
              "<style scoped>\n",
              "    .dataframe tbody tr th:only-of-type {\n",
              "        vertical-align: middle;\n",
              "    }\n",
              "\n",
              "    .dataframe tbody tr th {\n",
              "        vertical-align: top;\n",
              "    }\n",
              "\n",
              "    .dataframe thead th {\n",
              "        text-align: right;\n",
              "    }\n",
              "</style>\n",
              "<table border=\"1\" class=\"dataframe\">\n",
              "  <thead>\n",
              "    <tr style=\"text-align: right;\">\n",
              "      <th></th>\n",
              "      <th>y_actual</th>\n",
              "      <th>y_tensorflow_sigmoid</th>\n",
              "      <th>y_tensorflow_rms</th>\n",
              "    </tr>\n",
              "  </thead>\n",
              "  <tbody>\n",
              "    <tr>\n",
              "      <th>0</th>\n",
              "      <td>1</td>\n",
              "      <td>0.527862</td>\n",
              "      <td>5.262085e-01</td>\n",
              "    </tr>\n",
              "    <tr>\n",
              "      <th>1</th>\n",
              "      <td>0</td>\n",
              "      <td>0.492844</td>\n",
              "      <td>4.908517e-01</td>\n",
              "    </tr>\n",
              "    <tr>\n",
              "      <th>2</th>\n",
              "      <td>0</td>\n",
              "      <td>0.562607</td>\n",
              "      <td>5.613044e-01</td>\n",
              "    </tr>\n",
              "    <tr>\n",
              "      <th>3</th>\n",
              "      <td>1</td>\n",
              "      <td>0.621594</td>\n",
              "      <td>6.192408e-01</td>\n",
              "    </tr>\n",
              "    <tr>\n",
              "      <th>4</th>\n",
              "      <td>1</td>\n",
              "      <td>0.588104</td>\n",
              "      <td>5.853559e+06</td>\n",
              "    </tr>\n",
              "  </tbody>\n",
              "</table>\n",
              "</div>"
            ],
            "text/plain": [
              "   y_actual  y_tensorflow_sigmoid  y_tensorflow_rms\n",
              "0         1              0.527862      5.262085e-01\n",
              "1         0              0.492844      4.908517e-01\n",
              "2         0              0.562607      5.613044e-01\n",
              "3         1              0.621594      6.192408e-01\n",
              "4         1              0.588104      5.853559e+06"
            ]
          },
          "metadata": {
            "tags": []
          },
          "execution_count": 3
        }
      ]
    },
    {
      "cell_type": "code",
      "metadata": {
        "colab": {
          "base_uri": "https://localhost:8080/",
          "height": 204
        },
        "id": "InO5hYLCZUmU",
        "outputId": "170e3e44-1ce2-4e0f-ff0e-bc8684f55bd2"
      },
      "source": [
        "thresh = 0.5\n",
        "df['y_pred_rf'] = (df.y_tensorflow_sigmoid >= 0.5).astype('int')\n",
        "df['y_pred_lr'] = (df.y_tensorflow_rms >= 0.5).astype('int')\n",
        "df.head()"
      ],
      "execution_count": null,
      "outputs": [
        {
          "output_type": "execute_result",
          "data": {
            "text/html": [
              "<div>\n",
              "<style scoped>\n",
              "    .dataframe tbody tr th:only-of-type {\n",
              "        vertical-align: middle;\n",
              "    }\n",
              "\n",
              "    .dataframe tbody tr th {\n",
              "        vertical-align: top;\n",
              "    }\n",
              "\n",
              "    .dataframe thead th {\n",
              "        text-align: right;\n",
              "    }\n",
              "</style>\n",
              "<table border=\"1\" class=\"dataframe\">\n",
              "  <thead>\n",
              "    <tr style=\"text-align: right;\">\n",
              "      <th></th>\n",
              "      <th>y_actual</th>\n",
              "      <th>y_tensorflow_sigmoid</th>\n",
              "      <th>y_tensorflow_rms</th>\n",
              "      <th>y_pred_rf</th>\n",
              "      <th>y_pred_lr</th>\n",
              "    </tr>\n",
              "  </thead>\n",
              "  <tbody>\n",
              "    <tr>\n",
              "      <th>0</th>\n",
              "      <td>1</td>\n",
              "      <td>0.527862</td>\n",
              "      <td>5.262085e-01</td>\n",
              "      <td>1</td>\n",
              "      <td>1</td>\n",
              "    </tr>\n",
              "    <tr>\n",
              "      <th>1</th>\n",
              "      <td>0</td>\n",
              "      <td>0.492844</td>\n",
              "      <td>4.908517e-01</td>\n",
              "      <td>0</td>\n",
              "      <td>0</td>\n",
              "    </tr>\n",
              "    <tr>\n",
              "      <th>2</th>\n",
              "      <td>0</td>\n",
              "      <td>0.562607</td>\n",
              "      <td>5.613044e-01</td>\n",
              "      <td>1</td>\n",
              "      <td>1</td>\n",
              "    </tr>\n",
              "    <tr>\n",
              "      <th>3</th>\n",
              "      <td>1</td>\n",
              "      <td>0.621594</td>\n",
              "      <td>6.192408e-01</td>\n",
              "      <td>1</td>\n",
              "      <td>1</td>\n",
              "    </tr>\n",
              "    <tr>\n",
              "      <th>4</th>\n",
              "      <td>1</td>\n",
              "      <td>0.588104</td>\n",
              "      <td>5.853559e+06</td>\n",
              "      <td>1</td>\n",
              "      <td>1</td>\n",
              "    </tr>\n",
              "  </tbody>\n",
              "</table>\n",
              "</div>"
            ],
            "text/plain": [
              "   y_actual  y_tensorflow_sigmoid  y_tensorflow_rms  y_pred_rf  y_pred_lr\n",
              "0         1              0.527862      5.262085e-01          1          1\n",
              "1         0              0.492844      4.908517e-01          0          0\n",
              "2         0              0.562607      5.613044e-01          1          1\n",
              "3         1              0.621594      6.192408e-01          1          1\n",
              "4         1              0.588104      5.853559e+06          1          1"
            ]
          },
          "metadata": {
            "tags": []
          },
          "execution_count": 4
        }
      ]
    },
    {
      "cell_type": "code",
      "metadata": {
        "colab": {
          "base_uri": "https://localhost:8080/"
        },
        "id": "t-lTxQW9ZoWt",
        "outputId": "84fe06a3-7137-4ccc-d9ad-d754e8dda162"
      },
      "source": [
        "df.shape"
      ],
      "execution_count": null,
      "outputs": [
        {
          "output_type": "execute_result",
          "data": {
            "text/plain": [
              "(5, 5)"
            ]
          },
          "metadata": {
            "tags": []
          },
          "execution_count": 5
        }
      ]
    },
    {
      "cell_type": "code",
      "metadata": {
        "id": "9E1VwE9rZ09t"
      },
      "source": [
        "def compute_tp_tn_fn_fp(y_act, y_pred):\n",
        "\t'''\n",
        "\tTrue positive - actual = 1, predicted = 1\n",
        "\tFalse positive - actual = 1, predicted = 0\n",
        "\tFalse negative - actual = 0, predicted = 1\n",
        "\tTrue negative - actual = 0, predicted = 0\n",
        "\t'''\n",
        "\ttp = sum((y_act == 1) & (y_pred == 1))\n",
        "\ttn = sum((y_act == 0) & (y_pred == 0))\n",
        "\tfn = sum((y_act == 1) & (y_pred == 0))\n",
        "\tfp = sum((y_act == 0) & (y_pred == 1))\n",
        "\treturn tp, tn, fp, fn"
      ],
      "execution_count": null,
      "outputs": []
    },
    {
      "cell_type": "code",
      "metadata": {
        "colab": {
          "base_uri": "https://localhost:8080/"
        },
        "id": "bkk8XyRSaIux",
        "outputId": "9bf02b8b-379f-46ef-b4a2-e344327d8187"
      },
      "source": [
        "tp_lr, tn_lr, fp_lr, fn_lr = compute_tp_tn_fn_fp(df.y_actual, df.y_pred_lr)\n",
        "print('TP for TensorFlow RMSCORP :', tp_lr)\n",
        "print('TN for TensorFlow RMSCORP :', tn_lr)\n",
        "print('FP for TensorFlow RMSCORP :', fp_lr)\n",
        "print('FN for TensorFlow RMSCORP :', fn_lr)"
      ],
      "execution_count": null,
      "outputs": [
        {
          "output_type": "stream",
          "text": [
            "TP for TensorFlow RMSCORP : 3\n",
            "TN for TensorFlow RMSCORP : 1\n",
            "FP for TensorFlow RMSCORP : 1\n",
            "FN for TensorFlow RMSCORP : 0\n"
          ],
          "name": "stdout"
        }
      ]
    },
    {
      "cell_type": "code",
      "metadata": {
        "colab": {
          "base_uri": "https://localhost:8080/"
        },
        "id": "ppiI9nJ9a0jD",
        "outputId": "c6c347b4-4771-4350-ccce-eefa2330cd18"
      },
      "source": [
        "tp_rf, tn_rf, fp_rf, fn_rf = compute_tp_tn_fn_fp(df.y_actual, df.y_pred_rf)\n",
        "print('TP for TensorFlow SIGMOID :', tp_rf)\n",
        "print('TN for TensorFlow SIGMOID :', tn_rf)\n",
        "print('FP for TensorFlow SIGMOID :', fp_rf)\n",
        "print('FN for TensorFlow SIGMOID :', fn_rf)"
      ],
      "execution_count": null,
      "outputs": [
        {
          "output_type": "stream",
          "text": [
            "TP for TensorFlow SIGMOID : 3\n",
            "TN for TensorFlow SIGMOID : 1\n",
            "FP for TensorFlow SIGMOID : 1\n",
            "FN for TensorFlow SIGMOID : 0\n"
          ],
          "name": "stdout"
        }
      ]
    },
    {
      "cell_type": "code",
      "metadata": {
        "id": "yLPf5ti6bJDW"
      },
      "source": [
        "def compute_accuracy(tp, tn, fn, fp):\n",
        "\t'''\n",
        "\tAccuracy = TP + TN / FP + FN + TP + TN\n",
        "\n",
        "\t'''\n",
        "\treturn ((tp + tn) * 100)/ float( tp + tn + fn + fp)"
      ],
      "execution_count": null,
      "outputs": []
    },
    {
      "cell_type": "code",
      "metadata": {
        "colab": {
          "base_uri": "https://localhost:8080/"
        },
        "id": "MOn3gsoSbMrh",
        "outputId": "10e1e7f4-5b11-4ebc-9004-4c2317a9d6e3"
      },
      "source": [
        "print('Accuracy for TensorFlow RMSCORP :', compute_accuracy(tp_lr, tn_lr, fn_lr, fp_lr))\n",
        "print('Accuracy for TensorFlow SIGMOID :', compute_accuracy(tp_rf, tn_rf, fn_rf, fp_rf))"
      ],
      "execution_count": null,
      "outputs": [
        {
          "output_type": "stream",
          "text": [
            "Accuracy for TensorFlow RMSCORP : 80.0\n",
            "Accuracy for TensorFlow SIGMOID : 80.0\n"
          ],
          "name": "stdout"
        }
      ]
    },
    {
      "cell_type": "code",
      "metadata": {
        "id": "ilQTDxsabcMI"
      },
      "source": [
        "from sklearn.metrics import accuracy_score"
      ],
      "execution_count": null,
      "outputs": []
    },
    {
      "cell_type": "code",
      "metadata": {
        "colab": {
          "base_uri": "https://localhost:8080/"
        },
        "id": "tgyHJ1YzbgaQ",
        "outputId": "ee8d434a-5af5-4ca4-c5f0-e5c49fc76304"
      },
      "source": [
        "print('Accuracy for TensorFlow RMSCORP :', 100* accuracy_score(df.y_actual, \n",
        "                                                           df.y_pred_lr))\n",
        "print('Accuracy for TensorFlow RMSCORP :', 100*accuracy_score(df.y_actual, \n",
        "                                                           df.y_pred_rf))\n"
      ],
      "execution_count": null,
      "outputs": [
        {
          "output_type": "stream",
          "text": [
            "Accuracy for TensorFlow RMSCORP : 80.0\n",
            "Accuracy for TensorFlow RMSCORP : 80.0\n"
          ],
          "name": "stdout"
        }
      ]
    },
    {
      "cell_type": "code",
      "metadata": {
        "id": "T86AzCe8b5PV"
      },
      "source": [
        "def compute_precision(tp, fp):\n",
        "\t'''\n",
        "\tPrecision = TP  / FP + TP \n",
        "\n",
        "\t'''\n",
        "\treturn (tp  * 100)/ float( tp + fp)"
      ],
      "execution_count": null,
      "outputs": []
    },
    {
      "cell_type": "code",
      "metadata": {
        "colab": {
          "base_uri": "https://localhost:8080/"
        },
        "id": "inbcsZjWb98x",
        "outputId": "00a1c020-4631-40ce-cca8-d739505d98cc"
      },
      "source": [
        "\n",
        "print('Precision for TensorFlow RMSCORP  :', compute_precision(tp_lr, fp_lr))\n",
        "print('Precision for TensorFlow SIGMOID :', compute_precision(tp_rf, fp_rf))"
      ],
      "execution_count": null,
      "outputs": [
        {
          "output_type": "stream",
          "text": [
            "Precision for TensorFlow RMSCORP  : 75.0\n",
            "Precision for TensorFlow SIGMOID : 75.0\n"
          ],
          "name": "stdout"
        }
      ]
    },
    {
      "cell_type": "code",
      "metadata": {
        "colab": {
          "base_uri": "https://localhost:8080/"
        },
        "id": "0JGsCu-TcOch",
        "outputId": "4e7c7631-479f-42f4-c23c-9cb54c4cce0f"
      },
      "source": [
        "\n",
        "from sklearn.metrics import recall_score\n",
        "\n",
        "print('Recall for TensorFlow RMSCORP :', 100* recall_score(df.y_actual, \n",
        "                                                           df.y_pred_lr))\n",
        "print('Recall for TensorFlow SIGMOID :', 100* recall_score(df.y_actual, \n",
        "                                                           df.y_pred_rf))"
      ],
      "execution_count": null,
      "outputs": [
        {
          "output_type": "stream",
          "text": [
            "Recall for TensorFlow RMSCORP : 100.0\n",
            "Recall for TensorFlow SIGMOID : 100.0\n"
          ],
          "name": "stdout"
        }
      ]
    },
    {
      "cell_type": "code",
      "metadata": {
        "id": "pbRoTSvqcfSP"
      },
      "source": [
        "def compute_f1_score(y_true, y_pred):\n",
        "    # calculates the F1 score\n",
        "    tp, tn, fp, fn = compute_tp_tn_fn_fp(y_true, y_pred)\n",
        "    precision = compute_precision(tp, fp)/100\n",
        "    recall = compute_recall(tp, fn)/100\n",
        "    f1_score = (2*precision*recall)/ (precision + recall)\n",
        "    return f1_score"
      ],
      "execution_count": null,
      "outputs": []
    },
    {
      "cell_type": "code",
      "metadata": {
        "colab": {
          "base_uri": "https://localhost:8080/",
          "height": 333
        },
        "id": "-JUXAu46cjFZ",
        "outputId": "67066100-b725-4af7-8c43-e121959c921b"
      },
      "source": [
        "print('F1 score for Logistic Regression :', compute_f1_score(df.y_actual, \n",
        "                                                             df.y_pred_lr))\n",
        "print('F1 score for Random Forest :', compute_f1_score(df.y_actual, \n",
        "                                                             df.y_pred_rf))"
      ],
      "execution_count": null,
      "outputs": [
        {
          "output_type": "error",
          "ename": "NameError",
          "evalue": "ignored",
          "traceback": [
            "\u001b[0;31m---------------------------------------------------------------------------\u001b[0m",
            "\u001b[0;31mNameError\u001b[0m                                 Traceback (most recent call last)",
            "\u001b[0;32m<ipython-input-17-c6376f764cb7>\u001b[0m in \u001b[0;36m<module>\u001b[0;34m()\u001b[0m\n\u001b[1;32m      1\u001b[0m print('F1 score for Logistic Regression :', compute_f1_score(df.y_actual, \n\u001b[0;32m----> 2\u001b[0;31m                                                              df.y_pred_lr))\n\u001b[0m\u001b[1;32m      3\u001b[0m print('F1 score for Random Forest :', compute_f1_score(df.y_actual, \n\u001b[1;32m      4\u001b[0m                                                              df.y_pred_rf))\n",
            "\u001b[0;32m<ipython-input-16-c5ff617cbf8a>\u001b[0m in \u001b[0;36mcompute_f1_score\u001b[0;34m(y_true, y_pred)\u001b[0m\n\u001b[1;32m      3\u001b[0m     \u001b[0mtp\u001b[0m\u001b[0;34m,\u001b[0m \u001b[0mtn\u001b[0m\u001b[0;34m,\u001b[0m \u001b[0mfp\u001b[0m\u001b[0;34m,\u001b[0m \u001b[0mfn\u001b[0m \u001b[0;34m=\u001b[0m \u001b[0mcompute_tp_tn_fn_fp\u001b[0m\u001b[0;34m(\u001b[0m\u001b[0my_true\u001b[0m\u001b[0;34m,\u001b[0m \u001b[0my_pred\u001b[0m\u001b[0;34m)\u001b[0m\u001b[0;34m\u001b[0m\u001b[0;34m\u001b[0m\u001b[0m\n\u001b[1;32m      4\u001b[0m     \u001b[0mprecision\u001b[0m \u001b[0;34m=\u001b[0m \u001b[0mcompute_precision\u001b[0m\u001b[0;34m(\u001b[0m\u001b[0mtp\u001b[0m\u001b[0;34m,\u001b[0m \u001b[0mfp\u001b[0m\u001b[0;34m)\u001b[0m\u001b[0;34m/\u001b[0m\u001b[0;36m100\u001b[0m\u001b[0;34m\u001b[0m\u001b[0;34m\u001b[0m\u001b[0m\n\u001b[0;32m----> 5\u001b[0;31m     \u001b[0mrecall\u001b[0m \u001b[0;34m=\u001b[0m \u001b[0mcompute_recall\u001b[0m\u001b[0;34m(\u001b[0m\u001b[0mtp\u001b[0m\u001b[0;34m,\u001b[0m \u001b[0mfn\u001b[0m\u001b[0;34m)\u001b[0m\u001b[0;34m/\u001b[0m\u001b[0;36m100\u001b[0m\u001b[0;34m\u001b[0m\u001b[0;34m\u001b[0m\u001b[0m\n\u001b[0m\u001b[1;32m      6\u001b[0m     \u001b[0mf1_score\u001b[0m \u001b[0;34m=\u001b[0m \u001b[0;34m(\u001b[0m\u001b[0;36m2\u001b[0m\u001b[0;34m*\u001b[0m\u001b[0mprecision\u001b[0m\u001b[0;34m*\u001b[0m\u001b[0mrecall\u001b[0m\u001b[0;34m)\u001b[0m\u001b[0;34m/\u001b[0m \u001b[0;34m(\u001b[0m\u001b[0mprecision\u001b[0m \u001b[0;34m+\u001b[0m \u001b[0mrecall\u001b[0m\u001b[0;34m)\u001b[0m\u001b[0;34m\u001b[0m\u001b[0;34m\u001b[0m\u001b[0m\n\u001b[1;32m      7\u001b[0m     \u001b[0;32mreturn\u001b[0m \u001b[0mf1_score\u001b[0m\u001b[0;34m\u001b[0m\u001b[0;34m\u001b[0m\u001b[0m\n",
            "\u001b[0;31mNameError\u001b[0m: name 'compute_recall' is not defined"
          ]
        }
      ]
    },
    {
      "cell_type": "code",
      "metadata": {
        "colab": {
          "base_uri": "https://localhost:8080/"
        },
        "id": "vQc6k32LdIOQ",
        "outputId": "f0c87662-6dda-45b2-9033-b5fe6ac867a3"
      },
      "source": [
        "\n",
        "from sklearn.metrics import f1_score\n",
        "print('F1 score for TensorFlow RMSPROP :', f1_score(df.y_actual, df.y_pred_lr))\n",
        "print('F1 score for TensorFlow SIGMOID :', f1_score(df.y_actual, df.y_pred_rf))"
      ],
      "execution_count": null,
      "outputs": [
        {
          "output_type": "stream",
          "text": [
            "F1 score for TensorFlow RMSPROP : 0.8571428571428571\n",
            "F1 score for TensorFlow SIGMOID : 0.8571428571428571\n"
          ],
          "name": "stdout"
        }
      ]
    }
  ]
}